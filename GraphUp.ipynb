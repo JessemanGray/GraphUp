{
  "nbformat": 4,
  "nbformat_minor": 0,
  "metadata": {
    "colab": {
      "provenance": [],
      "gpuType": "T4",
      "authorship_tag": "ABX9TyOOdJ2AriYR1ptDoB3ACnk2",
      "include_colab_link": true
    },
    "kernelspec": {
      "name": "python3",
      "display_name": "Python 3"
    },
    "language_info": {
      "name": "python"
    },
    "accelerator": "GPU"
  },
  "cells": [
    {
      "cell_type": "markdown",
      "metadata": {
        "id": "view-in-github",
        "colab_type": "text"
      },
      "source": [
        "<a href=\"https://colab.research.google.com/github/JessemanGray/GraphUp/blob/main/GraphUp.ipynb\" target=\"_parent\"><img src=\"https://colab.research.google.com/assets/colab-badge.svg\" alt=\"Open In Colab\"/></a>"
      ]
    },
    {
      "cell_type": "code",
      "execution_count": 1,
      "metadata": {
        "colab": {
          "base_uri": "https://localhost:8080/"
        },
        "id": "SWB3hb-Yt-br",
        "outputId": "4b1dbf66-070a-427b-cc82-dd347d94daef"
      },
      "outputs": [
        {
          "output_type": "stream",
          "name": "stdout",
          "text": [
            "Collecting meshio[all]\n",
            "  Downloading meshio-5.3.5-py3-none-any.whl (166 kB)\n",
            "\u001b[?25l     \u001b[90m━━━━━━━━━━━━━━━━━━━━━━━━━━━━━━━━━━━━━━━━\u001b[0m \u001b[32m0.0/166.2 kB\u001b[0m \u001b[31m?\u001b[0m eta \u001b[36m-:--:--\u001b[0m\r\u001b[2K     \u001b[91m━━━━━━━━━━━━━━━━━━━━━━━━━━━━━━━━━━━━━━━\u001b[0m\u001b[90m╺\u001b[0m \u001b[32m163.8/166.2 kB\u001b[0m \u001b[31m5.0 MB/s\u001b[0m eta \u001b[36m0:00:01\u001b[0m\r\u001b[2K     \u001b[90m━━━━━━━━━━━━━━━━━━━━━━━━━━━━━━━━━━━━━━━━\u001b[0m \u001b[32m166.2/166.2 kB\u001b[0m \u001b[31m4.0 MB/s\u001b[0m eta \u001b[36m0:00:00\u001b[0m\n",
            "\u001b[?25hRequirement already satisfied: numpy>=1.20.0 in /usr/local/lib/python3.10/dist-packages (from meshio[all]) (1.25.2)\n",
            "Requirement already satisfied: rich in /usr/local/lib/python3.10/dist-packages (from meshio[all]) (13.7.0)\n",
            "Collecting netCDF4 (from meshio[all])\n",
            "  Downloading netCDF4-1.6.5-cp310-cp310-manylinux_2_17_x86_64.manylinux2014_x86_64.whl (5.5 MB)\n",
            "\u001b[2K     \u001b[90m━━━━━━━━━━━━━━━━━━━━━━━━━━━━━━━━━━━━━━━━\u001b[0m \u001b[32m5.5/5.5 MB\u001b[0m \u001b[31m17.5 MB/s\u001b[0m eta \u001b[36m0:00:00\u001b[0m\n",
            "\u001b[?25hRequirement already satisfied: h5py in /usr/local/lib/python3.10/dist-packages (from meshio[all]) (3.9.0)\n",
            "Collecting cftime (from netCDF4->meshio[all])\n",
            "  Downloading cftime-1.6.3-cp310-cp310-manylinux_2_17_x86_64.manylinux2014_x86_64.whl (1.3 MB)\n",
            "\u001b[2K     \u001b[90m━━━━━━━━━━━━━━━━━━━━━━━━━━━━━━━━━━━━━━━━\u001b[0m \u001b[32m1.3/1.3 MB\u001b[0m \u001b[31m22.6 MB/s\u001b[0m eta \u001b[36m0:00:00\u001b[0m\n",
            "\u001b[?25hRequirement already satisfied: certifi in /usr/local/lib/python3.10/dist-packages (from netCDF4->meshio[all]) (2024.2.2)\n",
            "Requirement already satisfied: markdown-it-py>=2.2.0 in /usr/local/lib/python3.10/dist-packages (from rich->meshio[all]) (3.0.0)\n",
            "Requirement already satisfied: pygments<3.0.0,>=2.13.0 in /usr/local/lib/python3.10/dist-packages (from rich->meshio[all]) (2.16.1)\n",
            "Requirement already satisfied: mdurl~=0.1 in /usr/local/lib/python3.10/dist-packages (from markdown-it-py>=2.2.0->rich->meshio[all]) (0.1.2)\n",
            "Installing collected packages: cftime, netCDF4, meshio\n",
            "Successfully installed cftime-1.6.3 meshio-5.3.5 netCDF4-1.6.5\n"
          ]
        }
      ],
      "source": [
        "!pip install meshio[all]"
      ]
    },
    {
      "cell_type": "code",
      "source": [
        "!pip install open3d\n"
      ],
      "metadata": {
        "colab": {
          "base_uri": "https://localhost:8080/"
        },
        "id": "f6cLxrLNk2ir",
        "outputId": "e0dbe7a0-4516-4895-acb1-8ad6b2ca28f9"
      },
      "execution_count": 2,
      "outputs": [
        {
          "output_type": "stream",
          "name": "stdout",
          "text": [
            "Collecting open3d\n",
            "  Downloading open3d-0.18.0-cp310-cp310-manylinux_2_27_x86_64.whl (399.7 MB)\n",
            "\u001b[2K     \u001b[90m━━━━━━━━━━━━━━━━━━━━━━━━━━━━━━━━━━━━━━━━\u001b[0m \u001b[32m399.7/399.7 MB\u001b[0m \u001b[31m1.9 MB/s\u001b[0m eta \u001b[36m0:00:00\u001b[0m\n",
            "\u001b[?25hRequirement already satisfied: numpy>=1.18.0 in /usr/local/lib/python3.10/dist-packages (from open3d) (1.25.2)\n",
            "Collecting dash>=2.6.0 (from open3d)\n",
            "  Downloading dash-2.15.0-py3-none-any.whl (10.2 MB)\n",
            "\u001b[2K     \u001b[90m━━━━━━━━━━━━━━━━━━━━━━━━━━━━━━━━━━━━━━━━\u001b[0m \u001b[32m10.2/10.2 MB\u001b[0m \u001b[31m71.5 MB/s\u001b[0m eta \u001b[36m0:00:00\u001b[0m\n",
            "\u001b[?25hRequirement already satisfied: werkzeug>=2.2.3 in /usr/local/lib/python3.10/dist-packages (from open3d) (3.0.1)\n",
            "Requirement already satisfied: nbformat>=5.7.0 in /usr/local/lib/python3.10/dist-packages (from open3d) (5.9.2)\n",
            "Collecting configargparse (from open3d)\n",
            "  Downloading ConfigArgParse-1.7-py3-none-any.whl (25 kB)\n",
            "Collecting ipywidgets>=8.0.4 (from open3d)\n",
            "  Downloading ipywidgets-8.1.2-py3-none-any.whl (139 kB)\n",
            "\u001b[2K     \u001b[90m━━━━━━━━━━━━━━━━━━━━━━━━━━━━━━━━━━━━━━━━\u001b[0m \u001b[32m139.4/139.4 kB\u001b[0m \u001b[31m13.9 MB/s\u001b[0m eta \u001b[36m0:00:00\u001b[0m\n",
            "\u001b[?25hCollecting addict (from open3d)\n",
            "  Downloading addict-2.4.0-py3-none-any.whl (3.8 kB)\n",
            "Requirement already satisfied: pillow>=9.3.0 in /usr/local/lib/python3.10/dist-packages (from open3d) (9.4.0)\n",
            "Requirement already satisfied: matplotlib>=3 in /usr/local/lib/python3.10/dist-packages (from open3d) (3.7.1)\n",
            "Requirement already satisfied: pandas>=1.0 in /usr/local/lib/python3.10/dist-packages (from open3d) (1.5.3)\n",
            "Requirement already satisfied: pyyaml>=5.4.1 in /usr/local/lib/python3.10/dist-packages (from open3d) (6.0.1)\n",
            "Requirement already satisfied: scikit-learn>=0.21 in /usr/local/lib/python3.10/dist-packages (from open3d) (1.2.2)\n",
            "Requirement already satisfied: tqdm in /usr/local/lib/python3.10/dist-packages (from open3d) (4.66.1)\n",
            "Collecting pyquaternion (from open3d)\n",
            "  Downloading pyquaternion-0.9.9-py3-none-any.whl (14 kB)\n",
            "Requirement already satisfied: Flask<3.1,>=1.0.4 in /usr/local/lib/python3.10/dist-packages (from dash>=2.6.0->open3d) (2.2.5)\n",
            "Requirement already satisfied: plotly>=5.0.0 in /usr/local/lib/python3.10/dist-packages (from dash>=2.6.0->open3d) (5.15.0)\n",
            "Collecting dash-html-components==2.0.0 (from dash>=2.6.0->open3d)\n",
            "  Downloading dash_html_components-2.0.0-py3-none-any.whl (4.1 kB)\n",
            "Collecting dash-core-components==2.0.0 (from dash>=2.6.0->open3d)\n",
            "  Downloading dash_core_components-2.0.0-py3-none-any.whl (3.8 kB)\n",
            "Collecting dash-table==5.0.0 (from dash>=2.6.0->open3d)\n",
            "  Downloading dash_table-5.0.0-py3-none-any.whl (3.9 kB)\n",
            "Requirement already satisfied: typing-extensions>=4.1.1 in /usr/local/lib/python3.10/dist-packages (from dash>=2.6.0->open3d) (4.9.0)\n",
            "Requirement already satisfied: requests in /usr/local/lib/python3.10/dist-packages (from dash>=2.6.0->open3d) (2.31.0)\n",
            "Collecting retrying (from dash>=2.6.0->open3d)\n",
            "  Downloading retrying-1.3.4-py3-none-any.whl (11 kB)\n",
            "Requirement already satisfied: nest-asyncio in /usr/local/lib/python3.10/dist-packages (from dash>=2.6.0->open3d) (1.6.0)\n",
            "Requirement already satisfied: setuptools in /usr/local/lib/python3.10/dist-packages (from dash>=2.6.0->open3d) (67.7.2)\n",
            "Requirement already satisfied: importlib-metadata in /usr/local/lib/python3.10/dist-packages (from dash>=2.6.0->open3d) (7.0.1)\n",
            "Collecting comm>=0.1.3 (from ipywidgets>=8.0.4->open3d)\n",
            "  Downloading comm-0.2.1-py3-none-any.whl (7.2 kB)\n",
            "Requirement already satisfied: ipython>=6.1.0 in /usr/local/lib/python3.10/dist-packages (from ipywidgets>=8.0.4->open3d) (7.34.0)\n",
            "Requirement already satisfied: traitlets>=4.3.1 in /usr/local/lib/python3.10/dist-packages (from ipywidgets>=8.0.4->open3d) (5.7.1)\n",
            "Collecting widgetsnbextension~=4.0.10 (from ipywidgets>=8.0.4->open3d)\n",
            "  Downloading widgetsnbextension-4.0.10-py3-none-any.whl (2.3 MB)\n",
            "\u001b[2K     \u001b[90m━━━━━━━━━━━━━━━━━━━━━━━━━━━━━━━━━━━━━━━━\u001b[0m \u001b[32m2.3/2.3 MB\u001b[0m \u001b[31m70.2 MB/s\u001b[0m eta \u001b[36m0:00:00\u001b[0m\n",
            "\u001b[?25hRequirement already satisfied: jupyterlab-widgets~=3.0.10 in /usr/local/lib/python3.10/dist-packages (from ipywidgets>=8.0.4->open3d) (3.0.10)\n",
            "Requirement already satisfied: contourpy>=1.0.1 in /usr/local/lib/python3.10/dist-packages (from matplotlib>=3->open3d) (1.2.0)\n",
            "Requirement already satisfied: cycler>=0.10 in /usr/local/lib/python3.10/dist-packages (from matplotlib>=3->open3d) (0.12.1)\n",
            "Requirement already satisfied: fonttools>=4.22.0 in /usr/local/lib/python3.10/dist-packages (from matplotlib>=3->open3d) (4.48.1)\n",
            "Requirement already satisfied: kiwisolver>=1.0.1 in /usr/local/lib/python3.10/dist-packages (from matplotlib>=3->open3d) (1.4.5)\n",
            "Requirement already satisfied: packaging>=20.0 in /usr/local/lib/python3.10/dist-packages (from matplotlib>=3->open3d) (23.2)\n",
            "Requirement already satisfied: pyparsing>=2.3.1 in /usr/local/lib/python3.10/dist-packages (from matplotlib>=3->open3d) (3.1.1)\n",
            "Requirement already satisfied: python-dateutil>=2.7 in /usr/local/lib/python3.10/dist-packages (from matplotlib>=3->open3d) (2.8.2)\n",
            "Requirement already satisfied: fastjsonschema in /usr/local/lib/python3.10/dist-packages (from nbformat>=5.7.0->open3d) (2.19.1)\n",
            "Requirement already satisfied: jsonschema>=2.6 in /usr/local/lib/python3.10/dist-packages (from nbformat>=5.7.0->open3d) (4.19.2)\n",
            "Requirement already satisfied: jupyter-core in /usr/local/lib/python3.10/dist-packages (from nbformat>=5.7.0->open3d) (5.7.1)\n",
            "Requirement already satisfied: pytz>=2020.1 in /usr/local/lib/python3.10/dist-packages (from pandas>=1.0->open3d) (2023.4)\n",
            "Requirement already satisfied: scipy>=1.3.2 in /usr/local/lib/python3.10/dist-packages (from scikit-learn>=0.21->open3d) (1.11.4)\n",
            "Requirement already satisfied: joblib>=1.1.1 in /usr/local/lib/python3.10/dist-packages (from scikit-learn>=0.21->open3d) (1.3.2)\n",
            "Requirement already satisfied: threadpoolctl>=2.0.0 in /usr/local/lib/python3.10/dist-packages (from scikit-learn>=0.21->open3d) (3.2.0)\n",
            "Requirement already satisfied: MarkupSafe>=2.1.1 in /usr/local/lib/python3.10/dist-packages (from werkzeug>=2.2.3->open3d) (2.1.5)\n",
            "Requirement already satisfied: Jinja2>=3.0 in /usr/local/lib/python3.10/dist-packages (from Flask<3.1,>=1.0.4->dash>=2.6.0->open3d) (3.1.3)\n",
            "Requirement already satisfied: itsdangerous>=2.0 in /usr/local/lib/python3.10/dist-packages (from Flask<3.1,>=1.0.4->dash>=2.6.0->open3d) (2.1.2)\n",
            "Requirement already satisfied: click>=8.0 in /usr/local/lib/python3.10/dist-packages (from Flask<3.1,>=1.0.4->dash>=2.6.0->open3d) (8.1.7)\n",
            "Collecting jedi>=0.16 (from ipython>=6.1.0->ipywidgets>=8.0.4->open3d)\n",
            "  Downloading jedi-0.19.1-py2.py3-none-any.whl (1.6 MB)\n",
            "\u001b[2K     \u001b[90m━━━━━━━━━━━━━━━━━━━━━━━━━━━━━━━━━━━━━━━━\u001b[0m \u001b[32m1.6/1.6 MB\u001b[0m \u001b[31m50.1 MB/s\u001b[0m eta \u001b[36m0:00:00\u001b[0m\n",
            "\u001b[?25hRequirement already satisfied: decorator in /usr/local/lib/python3.10/dist-packages (from ipython>=6.1.0->ipywidgets>=8.0.4->open3d) (4.4.2)\n",
            "Requirement already satisfied: pickleshare in /usr/local/lib/python3.10/dist-packages (from ipython>=6.1.0->ipywidgets>=8.0.4->open3d) (0.7.5)\n",
            "Requirement already satisfied: prompt-toolkit!=3.0.0,!=3.0.1,<3.1.0,>=2.0.0 in /usr/local/lib/python3.10/dist-packages (from ipython>=6.1.0->ipywidgets>=8.0.4->open3d) (3.0.43)\n",
            "Requirement already satisfied: pygments in /usr/local/lib/python3.10/dist-packages (from ipython>=6.1.0->ipywidgets>=8.0.4->open3d) (2.16.1)\n",
            "Requirement already satisfied: backcall in /usr/local/lib/python3.10/dist-packages (from ipython>=6.1.0->ipywidgets>=8.0.4->open3d) (0.2.0)\n",
            "Requirement already satisfied: matplotlib-inline in /usr/local/lib/python3.10/dist-packages (from ipython>=6.1.0->ipywidgets>=8.0.4->open3d) (0.1.6)\n",
            "Requirement already satisfied: pexpect>4.3 in /usr/local/lib/python3.10/dist-packages (from ipython>=6.1.0->ipywidgets>=8.0.4->open3d) (4.9.0)\n",
            "Requirement already satisfied: attrs>=22.2.0 in /usr/local/lib/python3.10/dist-packages (from jsonschema>=2.6->nbformat>=5.7.0->open3d) (23.2.0)\n",
            "Requirement already satisfied: jsonschema-specifications>=2023.03.6 in /usr/local/lib/python3.10/dist-packages (from jsonschema>=2.6->nbformat>=5.7.0->open3d) (2023.12.1)\n",
            "Requirement already satisfied: referencing>=0.28.4 in /usr/local/lib/python3.10/dist-packages (from jsonschema>=2.6->nbformat>=5.7.0->open3d) (0.33.0)\n",
            "Requirement already satisfied: rpds-py>=0.7.1 in /usr/local/lib/python3.10/dist-packages (from jsonschema>=2.6->nbformat>=5.7.0->open3d) (0.17.1)\n",
            "Requirement already satisfied: tenacity>=6.2.0 in /usr/local/lib/python3.10/dist-packages (from plotly>=5.0.0->dash>=2.6.0->open3d) (8.2.3)\n",
            "Requirement already satisfied: six>=1.5 in /usr/local/lib/python3.10/dist-packages (from python-dateutil>=2.7->matplotlib>=3->open3d) (1.16.0)\n",
            "Requirement already satisfied: zipp>=0.5 in /usr/local/lib/python3.10/dist-packages (from importlib-metadata->dash>=2.6.0->open3d) (3.17.0)\n",
            "Requirement already satisfied: platformdirs>=2.5 in /usr/local/lib/python3.10/dist-packages (from jupyter-core->nbformat>=5.7.0->open3d) (4.2.0)\n",
            "Requirement already satisfied: charset-normalizer<4,>=2 in /usr/local/lib/python3.10/dist-packages (from requests->dash>=2.6.0->open3d) (3.3.2)\n",
            "Requirement already satisfied: idna<4,>=2.5 in /usr/local/lib/python3.10/dist-packages (from requests->dash>=2.6.0->open3d) (3.6)\n",
            "Requirement already satisfied: urllib3<3,>=1.21.1 in /usr/local/lib/python3.10/dist-packages (from requests->dash>=2.6.0->open3d) (2.0.7)\n",
            "Requirement already satisfied: certifi>=2017.4.17 in /usr/local/lib/python3.10/dist-packages (from requests->dash>=2.6.0->open3d) (2024.2.2)\n",
            "Requirement already satisfied: parso<0.9.0,>=0.8.3 in /usr/local/lib/python3.10/dist-packages (from jedi>=0.16->ipython>=6.1.0->ipywidgets>=8.0.4->open3d) (0.8.3)\n",
            "Requirement already satisfied: ptyprocess>=0.5 in /usr/local/lib/python3.10/dist-packages (from pexpect>4.3->ipython>=6.1.0->ipywidgets>=8.0.4->open3d) (0.7.0)\n",
            "Requirement already satisfied: wcwidth in /usr/local/lib/python3.10/dist-packages (from prompt-toolkit!=3.0.0,!=3.0.1,<3.1.0,>=2.0.0->ipython>=6.1.0->ipywidgets>=8.0.4->open3d) (0.2.13)\n",
            "Installing collected packages: dash-table, dash-html-components, dash-core-components, addict, widgetsnbextension, retrying, pyquaternion, jedi, configargparse, comm, ipywidgets, dash, open3d\n",
            "  Attempting uninstall: widgetsnbextension\n",
            "    Found existing installation: widgetsnbextension 3.6.6\n",
            "    Uninstalling widgetsnbextension-3.6.6:\n",
            "      Successfully uninstalled widgetsnbextension-3.6.6\n",
            "  Attempting uninstall: ipywidgets\n",
            "    Found existing installation: ipywidgets 7.7.1\n",
            "    Uninstalling ipywidgets-7.7.1:\n",
            "      Successfully uninstalled ipywidgets-7.7.1\n",
            "Successfully installed addict-2.4.0 comm-0.2.1 configargparse-1.7 dash-2.15.0 dash-core-components-2.0.0 dash-html-components-2.0.0 dash-table-5.0.0 ipywidgets-8.1.2 jedi-0.19.1 open3d-0.18.0 pyquaternion-0.9.9 retrying-1.3.4 widgetsnbextension-4.0.10\n"
          ]
        }
      ]
    },
    {
      "cell_type": "code",
      "source": [
        "# Import plotly for visualizations\n",
        "import plotly\n",
        "plotly.__version__"
      ],
      "metadata": {
        "colab": {
          "base_uri": "https://localhost:8080/",
          "height": 35
        },
        "id": "icrzc12Hyf0w",
        "outputId": "7b1f9981-902e-45b0-87f4-988a2d7ff1a8"
      },
      "execution_count": 4,
      "outputs": [
        {
          "output_type": "execute_result",
          "data": {
            "text/plain": [
              "'5.15.0'"
            ],
            "application/vnd.google.colaboratory.intrinsic+json": {
              "type": "string"
            }
          },
          "metadata": {},
          "execution_count": 4
        }
      ]
    },
    {
      "cell_type": "code",
      "source": [
        "# Imports for graphing and labeling\n",
        "import os\n",
        "import numpy as np\n",
        "import meshio\n",
        "import plotly.graph_objects as go\n",
        "import open3d as o3d\n"
      ],
      "metadata": {
        "id": "n9w2tNilu8l-"
      },
      "execution_count": 3,
      "outputs": []
    },
    {
      "cell_type": "code",
      "source": [
        "# Import ply files from github repository\n",
        "\n",
        "file_urls = ['https://raw.githubusercontent.com/JessemanGray/GraphUp/main/liberty_hall.ply', 'https://raw.githubusercontent.com/JessemanGray/GraphUp/main/mechanical_floor_1.ply', 'https://raw.githubusercontent.com/JessemanGray/GraphUp/main/electrical_floor_1.ply', 'https://raw.githubusercontent.com/JessemanGray/GraphUp/main/plumbing_floor_1.ply']\n",
        "\n",
        "for url in file_urls:\n",
        "  !wget {url}"
      ],
      "metadata": {
        "colab": {
          "base_uri": "https://localhost:8080/"
        },
        "id": "bIgSqPIWjCtB",
        "outputId": "1406f779-b6d6-4637-deaa-5dd2fc450c97"
      },
      "execution_count": 5,
      "outputs": [
        {
          "output_type": "stream",
          "name": "stdout",
          "text": [
            "--2024-02-13 22:54:05--  https://raw.githubusercontent.com/JessemanGray/GraphUp/main/liberty_hall.ply\n",
            "Resolving raw.githubusercontent.com (raw.githubusercontent.com)... 185.199.109.133, 185.199.108.133, 185.199.111.133, ...\n",
            "Connecting to raw.githubusercontent.com (raw.githubusercontent.com)|185.199.109.133|:443... connected.\n",
            "HTTP request sent, awaiting response... 200 OK\n",
            "Length: 392683 (383K) [application/octet-stream]\n",
            "Saving to: ‘liberty_hall.ply’\n",
            "\n",
            "liberty_hall.ply    100%[===================>] 383.48K  --.-KB/s    in 0.03s   \n",
            "\n",
            "2024-02-13 22:54:06 (14.7 MB/s) - ‘liberty_hall.ply’ saved [392683/392683]\n",
            "\n",
            "--2024-02-13 22:54:06--  https://raw.githubusercontent.com/JessemanGray/GraphUp/main/mechanical_floor_1.ply\n",
            "Resolving raw.githubusercontent.com (raw.githubusercontent.com)... 185.199.108.133, 185.199.109.133, 185.199.110.133, ...\n",
            "Connecting to raw.githubusercontent.com (raw.githubusercontent.com)|185.199.108.133|:443... connected.\n",
            "HTTP request sent, awaiting response... 200 OK\n",
            "Length: 744 [application/octet-stream]\n",
            "Saving to: ‘mechanical_floor_1.ply’\n",
            "\n",
            "mechanical_floor_1. 100%[===================>]     744  --.-KB/s    in 0s      \n",
            "\n",
            "2024-02-13 22:54:06 (29.3 MB/s) - ‘mechanical_floor_1.ply’ saved [744/744]\n",
            "\n",
            "--2024-02-13 22:54:06--  https://raw.githubusercontent.com/JessemanGray/GraphUp/main/electrical_floor_1.ply\n",
            "Resolving raw.githubusercontent.com (raw.githubusercontent.com)... 185.199.110.133, 185.199.111.133, 185.199.108.133, ...\n",
            "Connecting to raw.githubusercontent.com (raw.githubusercontent.com)|185.199.110.133|:443... connected.\n",
            "HTTP request sent, awaiting response... 200 OK\n",
            "Length: 744 [application/octet-stream]\n",
            "Saving to: ‘electrical_floor_1.ply’\n",
            "\n",
            "electrical_floor_1. 100%[===================>]     744  --.-KB/s    in 0s      \n",
            "\n",
            "2024-02-13 22:54:06 (30.5 MB/s) - ‘electrical_floor_1.ply’ saved [744/744]\n",
            "\n",
            "--2024-02-13 22:54:06--  https://raw.githubusercontent.com/JessemanGray/GraphUp/main/plumbing_floor_1.ply\n",
            "Resolving raw.githubusercontent.com (raw.githubusercontent.com)... 185.199.108.133, 185.199.109.133, 185.199.110.133, ...\n",
            "Connecting to raw.githubusercontent.com (raw.githubusercontent.com)|185.199.108.133|:443... connected.\n",
            "HTTP request sent, awaiting response... 200 OK\n",
            "Length: 744 [application/octet-stream]\n",
            "Saving to: ‘plumbing_floor_1.ply’\n",
            "\n",
            "plumbing_floor_1.pl 100%[===================>]     744  --.-KB/s    in 0s      \n",
            "\n",
            "2024-02-13 22:54:06 (26.9 MB/s) - ‘plumbing_floor_1.ply’ saved [744/744]\n",
            "\n"
          ]
        }
      ]
    },
    {
      "cell_type": "code",
      "source": [
        "# Assign labels to ply files\n",
        "\n",
        "model_path = 'liberty_hall.ply'\n",
        "mech_path = 'mechanical_floor_1.ply'\n",
        "elec_path = 'electrical_floor_1.ply'\n",
        "plumb_path = 'plumbing_floor_1.ply'"
      ],
      "metadata": {
        "id": "xCE6o3iPxIL2"
      },
      "execution_count": 7,
      "outputs": []
    },
    {
      "cell_type": "code",
      "source": [
        "assert os.path.exists(model_path), 'file does not exist'"
      ],
      "metadata": {
        "id": "3makVVEoh8Wj"
      },
      "execution_count": 8,
      "outputs": []
    },
    {
      "cell_type": "code",
      "source": [
        "# Import necessary libraries\n",
        "import dash\n",
        "from dash import dcc, html\n",
        "from dash.dependencies import Input, Output\n",
        "import plotly.graph_objects as go\n",
        "import open3d as o3d\n",
        "import numpy as np\n",
        "\n",
        "# Function to read .ply file and return vertices and triangles\n",
        "def get_mesh_data(filepath):\n",
        "    mesh = o3d.io.read_triangle_mesh(filepath)\n",
        "    vertices = np.asarray(mesh.vertices)\n",
        "    triangles = np.asarray(mesh.triangles)\n",
        "    return vertices, triangles\n",
        "\n",
        "# Function to create Mesh3d object\n",
        "def create_mesh3d(vertices, triangles, color, opacity):\n",
        "    return go.Mesh3d(\n",
        "        x=vertices[:, 0],\n",
        "        y=vertices[:, 1],\n",
        "        z=vertices[:, 2],\n",
        "        i=triangles[:, 0],\n",
        "        j=triangles[:, 1],\n",
        "        k=triangles[:, 2],\n",
        "        color=color,\n",
        "        opacity=opacity,\n",
        "        name=color  # Name the trace with its color for the legend\n",
        "    )\n",
        "\n",
        "# Read .ply files for base model and overlays\n",
        "base_vertices, base_triangles = get_mesh_data(model_path)\n",
        "mech_vertices, mech_triangles = get_mesh_data(mech_path)\n",
        "elec_vertices, elec_triangles = get_mesh_data(elec_path)\n",
        "plumb_vertices, plumb_triangles = get_mesh_data(plumb_path)\n",
        "\n",
        "'''# Define scaling factor for height\n",
        "height_scale = 0.0005 # Adjust as needed\n",
        "\n",
        "# Scale height of base model and overlay meshes\n",
        "base_vertices[:, 2] *= height_scale\n",
        "mech_vertices[:, 2] *= height_scale  # corrected from mech_vertices[:, 1]\n",
        "elec_vertices[:, 2] *= height_scale  # corrected from elec_vertices[:, 1]\n",
        "plumb_vertices[:, 2] *= height_scale  # corrected from plumb_vertices[:, 1]\n",
        "\n",
        "# Define translation factor for height\n",
        "height_translation = 0.000001  # Adjust as needed\n",
        "\n",
        "# Translate height of overlay meshes\n",
        "mech_vertices[:, 2] += height_translation\n",
        "elec_vertices[:, 2] += height_translation * .5 # Multiply by 2 to create a gap between layers\n",
        "plumb_vertices[:, 2] += height_translation * .75  # Multiply by 3 to create a gap between layers\n",
        "\n",
        "# Define new range for z-coordinates\n",
        "z_min_new = 0.0  # Adjust as needed\n",
        "z_max_new = 0.0000001  # Adjust as needed\n",
        "\n",
        "# Normalize z-coordinates of overlay meshes\n",
        "mech_vertices[:, 2] = z_min_new + (mech_vertices[:, 2] - np.min(mech_vertices[:, 2])) * (z_max_new - z_min_new) / (np.max(mech_vertices[:, 2]) - np.min(mech_vertices[:, 2]))\n",
        "elec_vertices[:, 2] = z_min_new + (elec_vertices[:, 2] - np.min(elec_vertices[:, 2])) * (z_max_new - z_min_new) / (np.max(elec_vertices[:, 2]) - np.min(elec_vertices[:, 2]))\n",
        "plumb_vertices[:, 2] = z_min_new + (plumb_vertices[:, 2] - np.min(plumb_vertices[:, 2])) * (z_max_new - z_min_new) / (np.max(plumb_vertices[:, 2]) - np.min(plumb_vertices[:, 2]))\n",
        "\n",
        "# Get maximum z-coordinate of base layer\n",
        "z_max_base = np.max(base_vertices[:, 2])\n",
        "\n",
        "# Adjust minimum z-coordinate of overlay meshes to match maximum z-coordinate of base layer\n",
        "mech_vertices[:, 2] -= np.min(mech_vertices[:, 2]) - z_max_base\n",
        "elec_vertices[:, 2] -= np.min(elec_vertices[:, 2]) - z_max_base\n",
        "plumb_vertices[:, 2] -= np.min(plumb_vertices[:, 2]) - z_max_base\n",
        "\n",
        "# Define scaling factor for base layer height\n",
        "height_scale_base = 0.00015  # Decrease this number to reduce the height of the base layer\n",
        "\n",
        "# Scale height of base layer\n",
        "base_vertices[:, 2] *= height_scale_base'''\n",
        "\n",
        "\n",
        "# Define Dash app layout\n",
        "app = dash.Dash(__name__)\n",
        "\n",
        "app.layout = html.Div([\n",
        "    dcc.Graph(id='3d-plot'),\n",
        "    html.Label('Mechanical Opacity Slider'),\n",
        "    dcc.Slider(id='mech-opacity-slider', min=0, max=1, step=0.1, value=0.5),\n",
        "    html.Label('Electrical Opacity Slider'),\n",
        "    dcc.Slider(id='elec-opacity-slider', min=0, max=1, step=0.1, value=0.5),\n",
        "    html.Label('Plumbing Opacity Slider'),\n",
        "    dcc.Slider(id='plumb-opacity-slider', min=0, max=1, step=0.1, value=0.5),\n",
        "])\n",
        "\n",
        "@app.callback(\n",
        "    Output('3d-plot', 'figure'),\n",
        "    [Input('mech-opacity-slider', 'value'),\n",
        "     Input('elec-opacity-slider', 'value'),\n",
        "     Input('plumb-opacity-slider', 'value')]\n",
        ")\n",
        "def update_graph(mech_opacity, elec_opacity, plumb_opacity):\n",
        "    fig = go.Figure(\n",
        "        data=[\n",
        "            go.Mesh3d(\n",
        "                # Base plot\n",
        "                x=base_vertices[:, 0],\n",
        "                y=base_vertices[:, 1],\n",
        "                z=base_vertices[:, 2],\n",
        "                i=base_triangles[:, 0],\n",
        "                j=base_triangles[:, 1],\n",
        "                k=base_triangles[:, 2],\n",
        "                color='lightyellow',\n",
        "                opacity=0.5\n",
        "            ),\n",
        "            go.Mesh3d(\n",
        "                # Mechanical overlay\n",
        "                x=mech_vertices[:, 0],\n",
        "                y=mech_vertices[:, 1],\n",
        "                z=mech_vertices[:, 2],\n",
        "                i=mech_triangles[:, 0],\n",
        "                j=mech_triangles[:, 1],\n",
        "                k=mech_triangles[:, 2],\n",
        "                color='orange',\n",
        "                opacity=mech_opacity,  # Controlled by the slider\n",
        "                name='Mechanical'\n",
        "            ),\n",
        "            go.Mesh3d(\n",
        "                # Electrical overlay\n",
        "                x=elec_vertices[:, 0],\n",
        "                y=elec_vertices[:, 1],\n",
        "                z=elec_vertices[:, 2],\n",
        "                i=elec_triangles[:, 0],\n",
        "                j=elec_triangles[:, 1],\n",
        "                k=elec_triangles[:, 2],\n",
        "                color='hotpink',\n",
        "                opacity=elec_opacity,  # Controlled by the slider\n",
        "                name='Electrical'\n",
        "            ),\n",
        "            go.Mesh3d(\n",
        "                # Plumbing overlay\n",
        "                x=plumb_vertices[:, 0],\n",
        "                y=plumb_vertices[:, 1],\n",
        "                z=plumb_vertices[:, 2],\n",
        "                i=plumb_triangles[:, 0],\n",
        "                j=plumb_triangles[:, 1],\n",
        "                k=plumb_triangles[:, 2],\n",
        "                color='turquoise',\n",
        "                opacity=plumb_opacity,  # Controlled by the slider\n",
        "                name='Plumbing'\n",
        "            ),\n",
        "        ],\n",
        "        layout=go.Layout(\n",
        "            autosize=False,\n",
        "            width=800,\n",
        "            height=400,\n",
        "            plot_bgcolor='black',\n",
        "            paper_bgcolor='black',\n",
        "            font=dict(size=16),\n",
        "            scene=dict(\n",
        "                xaxis=dict(showbackground=False, title='', showgrid=False, zeroline=False, showticklabels=False),\n",
        "                yaxis=dict(showbackground=False, title='', showgrid=False, zeroline=False, showticklabels=False),\n",
        "                zaxis=dict(showbackground=False, title='', showgrid=False, zeroline=False, showticklabels=False)\n",
        "            )\n",
        "        )\n",
        "    )\n",
        "    return fig\n",
        "\n",
        "if __name__ == '__main__':\n",
        "    app.run_server(debug=True)"
      ],
      "metadata": {
        "id": "KpTU-C8ZrWod",
        "colab": {
          "base_uri": "https://localhost:8080/",
          "height": 671
        },
        "outputId": "e8078fd9-4cf0-4881-d34c-ee0c9c2f1fb9"
      },
      "execution_count": 11,
      "outputs": [
        {
          "output_type": "display_data",
          "data": {
            "text/plain": [
              "<IPython.core.display.Javascript object>"
            ],
            "application/javascript": [
              "(async (port, path, width, height, cache, element) => {\n",
              "    if (!google.colab.kernel.accessAllowed && !cache) {\n",
              "      return;\n",
              "    }\n",
              "    element.appendChild(document.createTextNode(''));\n",
              "    const url = await google.colab.kernel.proxyPort(port, {cache});\n",
              "    const iframe = document.createElement('iframe');\n",
              "    iframe.src = new URL(path, url).toString();\n",
              "    iframe.height = height;\n",
              "    iframe.width = width;\n",
              "    iframe.style.border = 0;\n",
              "    iframe.allow = [\n",
              "        'accelerometer',\n",
              "        'autoplay',\n",
              "        'camera',\n",
              "        'clipboard-read',\n",
              "        'clipboard-write',\n",
              "        'gyroscope',\n",
              "        'magnetometer',\n",
              "        'microphone',\n",
              "        'serial',\n",
              "        'usb',\n",
              "        'xr-spatial-tracking',\n",
              "    ].join('; ');\n",
              "    element.appendChild(iframe);\n",
              "  })(8050, \"/\", \"100%\", 650, false, window.element)"
            ]
          },
          "metadata": {}
        }
      ]
    }
  ]
}